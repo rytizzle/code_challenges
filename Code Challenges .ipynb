{
 "cells": [
  {
   "cell_type": "markdown",
   "metadata": {},
   "source": [
    "http://www.codewars.com/kata/tv-remote-shift-and-space/train/python\n",
    "\n",
    "Background\n",
    "My TV remote control has arrow buttons and an OK button.\n",
    "\n",
    "I can use these to move a \"cursor\" on a logical screen keyboard to type words...\n",
    "\n",
    "Keyboard\n",
    "The screen \"keyboard\" layout looks like this\n",
    "\n",
    "'''\n",
    "a\tb\tc\td\te\t1\t2\t3\n",
    "f\tg\th\ti\tj\t4\t5\t6\n",
    "k\tl\tm\tn\to\t7\t8\t9\n",
    "p\tq\tr\ts\tt\t.\t@\t0\n",
    "u\tv\tw\tx\ty\tz\t_\t/\n",
    "aA\tSP '''\t\t\t\t\t\t\n",
    "\n",
    "\n",
    "aA is the SHIFT key. Pressing this key toggles alpha characters between UPPERCASE and lowercase\n",
    "SP is the space character\n",
    "The other blank keys in the bottom row have no function"
   ]
  },
  {
   "cell_type": "code",
   "execution_count": 1,
   "metadata": {
    "collapsed": true
   },
   "outputs": [],
   "source": [
    "def arya_ryan(words):\n",
    "    #create a grid (6x8)\n",
    "    grid = np.array([['a','b','c','d','e',1,2,3], \n",
    "    ['f','g','h','i','j', 4,5,6],\n",
    "    ['k','l','m','n','o',7,8,9],\n",
    "    ['p','q','r','s','t','.','@',0],\n",
    "    ['u','v','w','x','y','z','_','/'],\n",
    "    ['shift',' ','','','','','','']])\n",
    "\n",
    "    #initial position\n",
    "    xpos = 0\n",
    "    ypos = 0\n",
    "\n",
    "    #if first letter is capital\n",
    "    presses = 0\n",
    "    caps = False\n",
    "    for letter in words:\n",
    "        if (letter.isupper() and caps == False) or (letter.islower() and caps == True):\n",
    "            presses += abs(xpos - (np.argwhere(grid == 'shift')[0][0]))\n",
    "            presses += abs(ypos - (np.argwhere(grid == 'shift')[0][1]))\n",
    "            presses += 1\n",
    "\n",
    "            xpos = 5\n",
    "            ypos = 0\n",
    "            \n",
    "            if caps == False:\n",
    "                caps = True\n",
    "            else:\n",
    "                caps = False\n",
    "                \n",
    "       \n",
    "        presses += abs(xpos - (np.argwhere(grid == letter.lower())[0][0]))\n",
    "        presses += abs(ypos - (np.argwhere(grid == letter.lower())[0][1]))\n",
    "        presses += 1\n",
    "        xpos = (np.argwhere(grid == letter.lower())[0][0])\n",
    "        ypos = (np.argwhere(grid == letter.lower())[0][1])\n",
    "\n",
    "    return presses"
   ]
  },
  {
   "cell_type": "code",
   "execution_count": null,
   "metadata": {
    "collapsed": true
   },
   "outputs": [],
   "source": []
  }
 ],
 "metadata": {
  "kernelspec": {
   "display_name": "Python [conda env:anaconda3]",
   "language": "python",
   "name": "conda-env-anaconda3-py"
  },
  "language_info": {
   "codemirror_mode": {
    "name": "ipython",
    "version": 3
   },
   "file_extension": ".py",
   "mimetype": "text/x-python",
   "name": "python",
   "nbconvert_exporter": "python",
   "pygments_lexer": "ipython3",
   "version": "3.6.3"
  },
  "varInspector": {
   "cols": {
    "lenName": 16,
    "lenType": 16,
    "lenVar": 40
   },
   "kernels_config": {
    "python": {
     "delete_cmd_postfix": "",
     "delete_cmd_prefix": "del ",
     "library": "var_list.py",
     "varRefreshCmd": "print(var_dic_list())"
    },
    "r": {
     "delete_cmd_postfix": ") ",
     "delete_cmd_prefix": "rm(",
     "library": "var_list.r",
     "varRefreshCmd": "cat(var_dic_list()) "
    }
   },
   "types_to_exclude": [
    "module",
    "function",
    "builtin_function_or_method",
    "instance",
    "_Feature"
   ],
   "window_display": false
  }
 },
 "nbformat": 4,
 "nbformat_minor": 2
}
